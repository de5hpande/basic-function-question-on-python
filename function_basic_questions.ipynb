{
 "cells": [
  {
   "cell_type": "markdown",
   "metadata": {},
   "source": [
    "Q: Write a function named greet that takes a name as an argument and prints \"Hello, [name]!\"."
   ]
  },
  {
   "cell_type": "code",
   "execution_count": 21,
   "metadata": {},
   "outputs": [
    {
     "name": "stdout",
     "output_type": "stream",
     "text": [
      "hello rishabh\n"
     ]
    }
   ],
   "source": [
    "def great (name):\n",
    "    print(f\"hello {name}\")\n",
    "\n",
    "great(\"rishabh\")"
   ]
  },
  {
   "cell_type": "markdown",
   "metadata": {},
   "source": [
    "Question 2: Function with Return Value\n",
    "\n",
    "Write a function named add that takes two numbers and returns their sum."
   ]
  },
  {
   "cell_type": "code",
   "execution_count": 22,
   "metadata": {},
   "outputs": [
    {
     "name": "stdout",
     "output_type": "stream",
     "text": [
      "105\n"
     ]
    }
   ],
   "source": [
    "def add(a,b):\n",
    "    return a+b\n",
    "\n",
    "result=add(5,100)\n",
    "print(result)"
   ]
  },
  {
   "cell_type": "markdown",
   "metadata": {},
   "source": [
    "Question 3: Default Arguments\n",
    "\n",
    "Q: Write a function named power that takes two arguments, a base and an exponent, and returns the base raised to the power of the exponent. The exponent should have a default value of 2."
   ]
  },
  {
   "cell_type": "code",
   "execution_count": 23,
   "metadata": {},
   "outputs": [
    {
     "name": "stdout",
     "output_type": "stream",
     "text": [
      "4\n",
      "32\n"
     ]
    }
   ],
   "source": [
    "def power (base , exponent=2):# 2 is default value\n",
    "    return base ** exponent\n",
    "\n",
    "print(power(2))\n",
    "print(power(2,5))"
   ]
  },
  {
   "cell_type": "markdown",
   "metadata": {},
   "source": [
    "Question 4: Keyword Arguments\n",
    "\n",
    "Q: Write a function named describe_person that takes two arguments, name and age, and prints a description of the person. Use keyword arguments when calling the function."
   ]
  },
  {
   "cell_type": "code",
   "execution_count": 24,
   "metadata": {},
   "outputs": [
    {
     "name": "stdout",
     "output_type": "stream",
     "text": [
      "('rishabh', 55)\n"
     ]
    }
   ],
   "source": [
    "def describe_person (name,age):\n",
    "    return name , age\n",
    "\n",
    "info=describe_person(\"rishabh\",55)\n",
    "print(info)"
   ]
  },
  {
   "cell_type": "markdown",
   "metadata": {},
   "source": [
    "Question 5: Variable-Length Arguments\n",
    "\n",
    "Q: Write a function named sum_all that takes any number of arguments and returns their sum."
   ]
  },
  {
   "cell_type": "code",
   "execution_count": 25,
   "metadata": {},
   "outputs": [
    {
     "name": "stdout",
     "output_type": "stream",
     "text": [
      "45\n"
     ]
    }
   ],
   "source": [
    "def sum_all(*args):\n",
    "    return sum(args)\n",
    "\n",
    "a=sum_all(1,2,3,4,5,6,7,8,9)\n",
    "print(a)"
   ]
  },
  {
   "cell_type": "markdown",
   "metadata": {},
   "source": [
    "Question 6: Lambda Functions\n",
    "\n",
    "Q: Write a lambda function that takes two numbers and returns their product. Assign it to a variable named multiply."
   ]
  },
  {
   "cell_type": "code",
   "execution_count": null,
   "metadata": {},
   "outputs": [],
   "source": []
  },
  {
   "cell_type": "markdown",
   "metadata": {},
   "source": [
    "Question 7: Functions as Arguments\n",
    "\n",
    "Q: Write a function named apply_function that takes a function and a value, and returns the result of applying the function to the value."
   ]
  },
  {
   "cell_type": "code",
   "execution_count": 26,
   "metadata": {},
   "outputs": [
    {
     "data": {
      "text/plain": [
       "49"
      ]
     },
     "execution_count": 26,
     "metadata": {},
     "output_type": "execute_result"
    }
   ],
   "source": [
    "def apply_function(func , value):\n",
    "    return func(value)\n",
    "\n",
    "def square(x):\n",
    "    return x**2\n",
    "\n",
    "result=apply_function(square,7)\n",
    "result"
   ]
  },
  {
   "cell_type": "markdown",
   "metadata": {},
   "source": [
    "Question 8: Nested Functions\n",
    "\n",
    "Q: Write a function named outer_function that contains a nested function named inner_function. The inner_function should print \"Hello from the inner function\". Call the inner_function from within outer_function."
   ]
  },
  {
   "cell_type": "code",
   "execution_count": 27,
   "metadata": {},
   "outputs": [
    {
     "name": "stdout",
     "output_type": "stream",
     "text": [
      "Hello from the inner function\n"
     ]
    }
   ],
   "source": [
    "def outer_function():\n",
    "    def inner_function():\n",
    "       print(\"Hello from the inner function\")\n",
    "    \n",
    "    inner_function()\n",
    " \n",
    "outer_function()"
   ]
  },
  {
   "cell_type": "markdown",
   "metadata": {},
   "source": [
    "Question 9: Closures\n",
    "\n",
    "Q: Write a function named make_multiplier that takes a number n and returns a function that multiplies its input by n."
   ]
  },
  {
   "cell_type": "code",
   "execution_count": 28,
   "metadata": {},
   "outputs": [
    {
     "name": "stdout",
     "output_type": "stream",
     "text": [
      "25\n"
     ]
    }
   ],
   "source": [
    "def make_multiplier(n):\n",
    "    def multiplier(x):\n",
    "        return n*x\n",
    "    return multiplier\n",
    "\n",
    "\n",
    "a=make_multiplier(5)\n",
    "print(a(5))"
   ]
  },
  {
   "cell_type": "markdown",
   "metadata": {},
   "source": [
    "Question 10: Recursion\n",
    "\n",
    "Q: Write a recursive function named factorial that takes a number and returns its factorial."
   ]
  },
  {
   "cell_type": "code",
   "execution_count": 29,
   "metadata": {},
   "outputs": [
    {
     "data": {
      "text/plain": [
       "6"
      ]
     },
     "execution_count": 29,
     "metadata": {},
     "output_type": "execute_result"
    }
   ],
   "source": [
    "def factorial (n):\n",
    "    if n==0:\n",
    "        return 1\n",
    "    else:\n",
    "        return n*factorial(n-1)\n",
    "    \n",
    "factorial(3)"
   ]
  },
  {
   "cell_type": "markdown",
   "metadata": {},
   "source": [
    "Question 11: Function with Multiple Return Values\n",
    "\n",
    "Q: Write a function named min_max that takes a list of numbers and returns both the minimum and maximum values as a tuple."
   ]
  },
  {
   "cell_type": "code",
   "execution_count": 30,
   "metadata": {},
   "outputs": [
    {
     "name": "stdout",
     "output_type": "stream",
     "text": [
      "1 88\n"
     ]
    }
   ],
   "source": [
    "def min_max(number):\n",
    "    return min(number),max(number)\n",
    "\n",
    "num=[4,8,9,2,1,4,8,9,6,88,5]\n",
    "\n",
    "minimum , maximum = min_max(num)\n",
    "\n",
    "print(minimum,maximum)"
   ]
  },
  {
   "cell_type": "markdown",
   "metadata": {},
   "source": [
    "Question 12: Function with Keyword-Only Arguments\n",
    "\n",
    "Q: Write a function named greet_person that takes a name and an optional keyword-only argument greeting with a default value of \"Hello\". The function should print the greeting followed by the name."
   ]
  },
  {
   "cell_type": "code",
   "execution_count": 31,
   "metadata": {},
   "outputs": [
    {
     "name": "stdout",
     "output_type": "stream",
     "text": [
      "hello, rishabh\n"
     ]
    }
   ],
   "source": [
    "def greet_person(name,*,greeting=\"hello\"): # hello is default parameter\n",
    "    print(f\"{greeting}, {name}\")\n",
    "\n",
    "greet_person(\"rishabh\") #if greeting argument does not enter"
   ]
  },
  {
   "cell_type": "code",
   "execution_count": 32,
   "metadata": {},
   "outputs": [
    {
     "name": "stdout",
     "output_type": "stream",
     "text": [
      "whatsup my boi, rishabh\n"
     ]
    }
   ],
   "source": [
    "greet_person(\"rishabh\",greeting=\"whatsup my boi\")"
   ]
  },
  {
   "cell_type": "markdown",
   "metadata": {},
   "source": [
    "Question 13: Handling Errors in Functions\n",
    "\n",
    "Q: Write a function named divide that takes two numbers and returns their division. Handle the case where division by zero might occur by returning None."
   ]
  },
  {
   "cell_type": "code",
   "execution_count": 33,
   "metadata": {},
   "outputs": [
    {
     "name": "stdout",
     "output_type": "stream",
     "text": [
      "5.0\n",
      "None\n"
     ]
    }
   ],
   "source": [
    "def divide (a,b):\n",
    "  try:  \n",
    "    return a/b\n",
    "  except ZeroDivisionError:\n",
    "    return None\n",
    "  \n",
    "\n",
    "print(divide(25,5))\n",
    "print(divide(5,0))"
   ]
  },
  {
   "cell_type": "markdown",
   "metadata": {},
   "source": [
    "Question 14: Using map with a Function\n",
    "\n",
    "Q: Write a function named square that takes a number and returns its square. Use this function with map to apply it to a list of numbers."
   ]
  },
  {
   "cell_type": "code",
   "execution_count": 34,
   "metadata": {},
   "outputs": [
    {
     "name": "stdout",
     "output_type": "stream",
     "text": [
      "[1, 7744, 5929, 7744, 4, 16, 36, 25]\n"
     ]
    }
   ],
   "source": [
    "def square(x):\n",
    "    return x**2\n",
    "num=[1,88,77,88,2,4,6,5]\n",
    "\n",
    "num_sq=list(map(square,num))\n",
    "\n",
    "print(num_sq)\n"
   ]
  },
  {
   "cell_type": "markdown",
   "metadata": {},
   "source": [
    "Question 15: Using filter with a Function\n",
    "\n",
    "Q: Write a function named is_even that takes a number and returns True if it is even and False otherwise. Use this function with filter to filter out odd numbers from a list."
   ]
  },
  {
   "cell_type": "code",
   "execution_count": 35,
   "metadata": {},
   "outputs": [
    {
     "name": "stdout",
     "output_type": "stream",
     "text": [
      "[2, 4, 6, 8, 10]\n"
     ]
    }
   ],
   "source": [
    "def is_even(x):\n",
    "    return x % 2 == 0\n",
    "\n",
    "\n",
    "numbers = [1, 2, 3, 4, 5, 6, 7, 8, 9, 10]\n",
    "even_numbers = list(filter(is_even, numbers))\n",
    "print(even_numbers) "
   ]
  },
  {
   "cell_type": "markdown",
   "metadata": {},
   "source": [
    "Question 16: Function with Docstrings\n",
    "\n",
    "Q: Write a function named multiply that takes two numbers and returns their product. Include a docstring that describes what the function does."
   ]
  },
  {
   "cell_type": "code",
   "execution_count": 36,
   "metadata": {},
   "outputs": [
    {
     "name": "stdout",
     "output_type": "stream",
     "text": [
      "12\n"
     ]
    }
   ],
   "source": [
    "def multiply(a, b):\n",
    "    \"\"\"\n",
    "    Returns the product of two numbers.\n",
    "    \n",
    "    Parameters:\n",
    "    a (int or float): The first number.\n",
    "    b (int or float): The second number.\n",
    "    \n",
    "    Returns:\n",
    "    int or float: The product of a and b.\n",
    "    \"\"\"\n",
    "    return a * b\n",
    "\n",
    "\n",
    "print(multiply(3, 4)) \n"
   ]
  },
  {
   "cell_type": "markdown",
   "metadata": {},
   "source": [
    "Question 17: Function Annotations\n",
    "\n",
    "Q: Write a function named concatenate that takes two strings and returns their concatenation. Use function annotations to specify the expected types of the arguments and the return type."
   ]
  },
  {
   "cell_type": "code",
   "execution_count": 37,
   "metadata": {},
   "outputs": [
    {
     "name": "stdout",
     "output_type": "stream",
     "text": [
      "rishabh deshpande\n"
     ]
    }
   ],
   "source": [
    "def concatenate (a: str,b:str) :\n",
    "    return a + b\n",
    "\n",
    "print(concatenate(\"rishabh \",\"deshpande\"))"
   ]
  },
  {
   "cell_type": "markdown",
   "metadata": {},
   "source": [
    "Question 18: Higher-Order Functions\n",
    "\n",
    "Q: Write a function named apply_twice that takes a function and an argument, and returns the result of applying the function to the argument twice."
   ]
  },
  {
   "cell_type": "code",
   "execution_count": 38,
   "metadata": {},
   "outputs": [
    {
     "name": "stdout",
     "output_type": "stream",
     "text": [
      "6\n"
     ]
    }
   ],
   "source": [
    "def apply_twice(func,value):\n",
    "    return func(func(value))\n",
    "\n",
    "def add_one(x):\n",
    "    return x+1\n",
    "\n",
    "result=apply_twice(add_one,4)\n",
    "print(result)"
   ]
  },
  {
   "cell_type": "markdown",
   "metadata": {},
   "source": [
    "Question 19: Decorators\n",
    "\n",
    "Q: Write a decorator named uppercase_decorator that converts the result of a function to uppercase. Apply this decorator to a function named greet that returns a greeting message."
   ]
  },
  {
   "cell_type": "code",
   "execution_count": 39,
   "metadata": {},
   "outputs": [
    {
     "name": "stdout",
     "output_type": "stream",
     "text": [
      "HELLO, RISHABH\n"
     ]
    }
   ],
   "source": [
    "def uppercase_decorator(func):\n",
    "    def wrapper():\n",
    "        result = func()\n",
    "        return result.upper()\n",
    "    return wrapper\n",
    "\n",
    "@uppercase_decorator\n",
    "def greet():\n",
    "    return \"Hello, Rishabh\"\n",
    "\n",
    "\n",
    "print(greet()) "
   ]
  },
  {
   "cell_type": "markdown",
   "metadata": {},
   "source": [
    "Question 20: Generator Functions\n",
    "\n",
    "Q: Write a generator function named fibonacci that yields the Fibonacci sequence up to a given number of terms."
   ]
  },
  {
   "cell_type": "code",
   "execution_count": 40,
   "metadata": {},
   "outputs": [
    {
     "name": "stdout",
     "output_type": "stream",
     "text": [
      "0\n",
      "1\n",
      "1\n",
      "2\n",
      "3\n",
      "5\n",
      "8\n",
      "13\n",
      "21\n",
      "34\n"
     ]
    }
   ],
   "source": [
    "def fibonacci(n):\n",
    "    a, b = 0, 1\n",
    "    for _ in range(n):\n",
    "        yield a\n",
    "        a, b = b, a + b\n",
    "\n",
    "\n",
    "for num in fibonacci(10):\n",
    "    print(num)\n"
   ]
  },
  {
   "cell_type": "markdown",
   "metadata": {},
   "source": [
    "Question 21: Sum of Elements in a List\n",
    "\n",
    "Q: Write a function named sum_elements that takes a list of numbers and returns their sum using a for loop."
   ]
  },
  {
   "cell_type": "code",
   "execution_count": 44,
   "metadata": {},
   "outputs": [
    {
     "name": "stdout",
     "output_type": "stream",
     "text": [
      "15\n"
     ]
    }
   ],
   "source": [
    "def sum_element (numbers):\n",
    "    total = 0\n",
    "    for number in numbers:\n",
    "        total+=number\n",
    "    return total\n",
    "\n",
    "sum=[1,2,3,4,5]\n",
    "print(sum_element(sum))"
   ]
  },
  {
   "cell_type": "markdown",
   "metadata": {},
   "source": [
    "Question 22: Count Vowels in a String\n",
    "\n",
    "Q: Write a function named count_vowels that takes a string and returns the number of vowels (a, e, i, o, u) in the string using a for loop."
   ]
  },
  {
   "cell_type": "code",
   "execution_count": 45,
   "metadata": {},
   "outputs": [
    {
     "data": {
      "text/plain": [
       "10"
      ]
     },
     "execution_count": 45,
     "metadata": {},
     "output_type": "execute_result"
    }
   ],
   "source": [
    "def count_vowels(s):\n",
    "    vowels=\"aeiouAEIOU\"\n",
    "    count=0\n",
    "    for char in s:\n",
    "        if char in vowels:\n",
    "            count+=1\n",
    "    return count\n",
    "\n",
    "greet= \"hello everyone , thank for coming\"\n",
    "count_vowels(greet)"
   ]
  },
  {
   "cell_type": "markdown",
   "metadata": {},
   "source": [
    "Question 23: Find the Maximum Value in a List\n",
    "\n",
    "Q: Write a function named find_max that takes a list of numbers and returns the maximum value using a for loop."
   ]
  },
  {
   "cell_type": "code",
   "execution_count": 47,
   "metadata": {},
   "outputs": [
    {
     "name": "stdout",
     "output_type": "stream",
     "text": [
      "50\n"
     ]
    }
   ],
   "source": [
    "def find_max(numbers):\n",
    "    if not numbers:\n",
    "        return None\n",
    "    max_value = numbers[0]\n",
    "    for number in numbers[1:]:\n",
    "        if number > max_value:\n",
    "            max_value=number\n",
    "    return max_value\n",
    "\n",
    "\n",
    "\n",
    "numbers = [3, 1, 4, 1, 5, 9, 2, 6, 50]\n",
    "print(find_max(numbers))  "
   ]
  },
  {
   "cell_type": "markdown",
   "metadata": {},
   "source": [
    "Question 24: Reverse a String\n",
    "\n",
    "Q: Write a function named reverse_string that takes a string and returns the reversed string using a for loop."
   ]
  },
  {
   "cell_type": "code",
   "execution_count": 48,
   "metadata": {},
   "outputs": [
    {
     "name": "stdout",
     "output_type": "stream",
     "text": [
      "hbahsiR\n"
     ]
    }
   ],
   "source": [
    "def reverse_string(s):\n",
    "    reversed_s = \"\"\n",
    "    for char in s:\n",
    "        reversed_s = char + reversed_s\n",
    "    return reversed_s\n",
    "\n",
    "\n",
    "text = \"Rishabh\"\n",
    "print(reverse_string(text))"
   ]
  },
  {
   "cell_type": "markdown",
   "metadata": {},
   "source": [
    "Question 25: Filter Even Numbers\n",
    "\n",
    "Q: Write a function named filter_even that takes a list of numbers and returns a new list containing only the even numbers using a for loop."
   ]
  },
  {
   "cell_type": "code",
   "execution_count": 50,
   "metadata": {},
   "outputs": [
    {
     "name": "stdout",
     "output_type": "stream",
     "text": [
      "[2, 4, 6, 8, 10]\n"
     ]
    }
   ],
   "source": [
    "def filter_even(numbers):\n",
    "    even_number=[]\n",
    "    for number in numbers:\n",
    "        if number % 2 ==0:\n",
    "            even_number.append(number)\n",
    "    return even_number\n",
    "\n",
    "\n",
    "numbers = [1, 2, 3, 4, 5, 6, 7, 8, 9, 10]\n",
    "print(filter_even(numbers))"
   ]
  },
  {
   "cell_type": "markdown",
   "metadata": {},
   "source": [
    "Question 26: Create a Multiplication Table\n",
    "\n",
    "Q: Write a function named multiplication_table that takes a number n and prints the multiplication table for n from 1 to 10 using nested for loops."
   ]
  },
  {
   "cell_type": "code",
   "execution_count": 52,
   "metadata": {},
   "outputs": [
    {
     "name": "stdout",
     "output_type": "stream",
     "text": [
      "1 x 1 = 1\t1 x 2 = 2\t1 x 3 = 3\t1 x 4 = 4\t1 x 5 = 5\t1 x 6 = 6\t1 x 7 = 7\t1 x 8 = 8\t1 x 9 = 9\t1 x 10 = 10\t\n",
      "2 x 1 = 2\t2 x 2 = 4\t2 x 3 = 6\t2 x 4 = 8\t2 x 5 = 10\t2 x 6 = 12\t2 x 7 = 14\t2 x 8 = 16\t2 x 9 = 18\t2 x 10 = 20\t\n",
      "3 x 1 = 3\t3 x 2 = 6\t3 x 3 = 9\t3 x 4 = 12\t3 x 5 = 15\t3 x 6 = 18\t3 x 7 = 21\t3 x 8 = 24\t3 x 9 = 27\t3 x 10 = 30\t\n",
      "4 x 1 = 4\t4 x 2 = 8\t4 x 3 = 12\t4 x 4 = 16\t4 x 5 = 20\t4 x 6 = 24\t4 x 7 = 28\t4 x 8 = 32\t4 x 9 = 36\t4 x 10 = 40\t\n",
      "5 x 1 = 5\t5 x 2 = 10\t5 x 3 = 15\t5 x 4 = 20\t5 x 5 = 25\t5 x 6 = 30\t5 x 7 = 35\t5 x 8 = 40\t5 x 9 = 45\t5 x 10 = 50\t\n",
      "6 x 1 = 6\t6 x 2 = 12\t6 x 3 = 18\t6 x 4 = 24\t6 x 5 = 30\t6 x 6 = 36\t6 x 7 = 42\t6 x 8 = 48\t6 x 9 = 54\t6 x 10 = 60\t\n",
      "7 x 1 = 7\t7 x 2 = 14\t7 x 3 = 21\t7 x 4 = 28\t7 x 5 = 35\t7 x 6 = 42\t7 x 7 = 49\t7 x 8 = 56\t7 x 9 = 63\t7 x 10 = 70\t\n",
      "8 x 1 = 8\t8 x 2 = 16\t8 x 3 = 24\t8 x 4 = 32\t8 x 5 = 40\t8 x 6 = 48\t8 x 7 = 56\t8 x 8 = 64\t8 x 9 = 72\t8 x 10 = 80\t\n",
      "9 x 1 = 9\t9 x 2 = 18\t9 x 3 = 27\t9 x 4 = 36\t9 x 5 = 45\t9 x 6 = 54\t9 x 7 = 63\t9 x 8 = 72\t9 x 9 = 81\t9 x 10 = 90\t\n",
      "10 x 1 = 10\t10 x 2 = 20\t10 x 3 = 30\t10 x 4 = 40\t10 x 5 = 50\t10 x 6 = 60\t10 x 7 = 70\t10 x 8 = 80\t10 x 9 = 90\t10 x 10 = 100\t\n"
     ]
    }
   ],
   "source": [
    "def multiplication_table(n):\n",
    "    for i in range(1, 11):\n",
    "        for j in range(1, n+1):\n",
    "            print(f\"{i} x {j} = {i*j}\", end='\\t')\n",
    "        print()\n",
    "\n",
    "\n",
    "multiplication_table(10)\n"
   ]
  },
  {
   "cell_type": "markdown",
   "metadata": {},
   "source": [
    "Question 27: Calculate Factorials for a List\n",
    "\n",
    "Q: Write a function named list_factorials that takes a list of numbers and returns a list of their factorials using a for loop and a helper function named factorial."
   ]
  },
  {
   "cell_type": "code",
   "execution_count": 57,
   "metadata": {},
   "outputs": [
    {
     "name": "stdout",
     "output_type": "stream",
     "text": [
      "[6, 24, 120]\n"
     ]
    }
   ],
   "source": [
    "def factorial (n):\n",
    "    if n==0:\n",
    "        return 1\n",
    "    result=1\n",
    "    for i in range (1,n+1):\n",
    "        result*=i\n",
    "    return result\n",
    "\n",
    "def list_factorials(numbers):\n",
    "    factorials=[]\n",
    "    for number in numbers:\n",
    "        factorials.append(factorial(number))\n",
    "    return factorials\n",
    "\n",
    "\n",
    "number=[3,4,5]\n",
    "print(list_factorials(number))"
   ]
  },
  {
   "cell_type": "markdown",
   "metadata": {},
   "source": [
    "Question 28: Count Word Frequencies\n",
    "\n",
    "Q: Write a function named word_frequencies that takes a string and returns a dictionary with the frequency of each word using a for loop."
   ]
  },
  {
   "cell_type": "code",
   "execution_count": 60,
   "metadata": {},
   "outputs": [
    {
     "name": "stdout",
     "output_type": "stream",
     "text": [
      "{'hello': 2, 'world': 1, 'Rishabh': 1}\n"
     ]
    }
   ],
   "source": [
    "def word_frequencies(text):\n",
    "    words=text.split()\n",
    "    frequency={}\n",
    "    for word in words:\n",
    "        if word in frequency:\n",
    "            frequency[word]+=1\n",
    "        else:\n",
    "            frequency[word]=1\n",
    "\n",
    "    return frequency\n",
    "    \n",
    "\n",
    "text = \"hello world hello Rishabh\"\n",
    "print(word_frequencies(text))"
   ]
  },
  {
   "cell_type": "markdown",
   "metadata": {},
   "source": [
    "Question 29: Find the Longest Word\n",
    "\n",
    "Q: Write a function named longest_word that takes a list of words and returns the longest word using a for loop."
   ]
  },
  {
   "cell_type": "code",
   "execution_count": 61,
   "metadata": {},
   "outputs": [
    {
     "name": "stdout",
     "output_type": "stream",
     "text": [
      "Rishabh\n"
     ]
    }
   ],
   "source": [
    "def longest_word(words):\n",
    "    if not words:\n",
    "        return None\n",
    "    \n",
    "    longest=words[0]\n",
    "    for word in words[1:]:\n",
    "        if len(word)>len(longest):\n",
    "            longest=word\n",
    "    \n",
    "    return longest\n",
    "\n",
    "words = [\"hello\", \"world\", \"Rishabh\", \"Python\"]\n",
    "print(longest_word(words))\n"
   ]
  },
  {
   "cell_type": "markdown",
   "metadata": {},
   "source": [
    "Question30: Generate a List of Prime Numbers\n",
    "\n",
    "Q: Write a function named generate_primes that takes a number n and returns a list of prime numbers up to n using a for loop."
   ]
  },
  {
   "cell_type": "code",
   "execution_count": 62,
   "metadata": {},
   "outputs": [
    {
     "name": "stdout",
     "output_type": "stream",
     "text": [
      "[2, 3, 5, 7, 11, 13, 17, 19]\n"
     ]
    }
   ],
   "source": [
    "def is_prime(num):\n",
    "    if num < 2:\n",
    "        return False\n",
    "    for i in range(2, int(num ** 0.5) + 1):\n",
    "        if num % i == 0:\n",
    "            return False\n",
    "    return True\n",
    "\n",
    "def generate_primes(n):\n",
    "    primes = []\n",
    "    for num in range(2, n + 1):\n",
    "        if is_prime(num):\n",
    "            primes.append(num)\n",
    "    return primes\n",
    "\n",
    "\n",
    "print(generate_primes(20))  \n"
   ]
  }
 ],
 "metadata": {
  "kernelspec": {
   "display_name": "Python 3",
   "language": "python",
   "name": "python3"
  },
  "language_info": {
   "codemirror_mode": {
    "name": "ipython",
    "version": 3
   },
   "file_extension": ".py",
   "mimetype": "text/x-python",
   "name": "python",
   "nbconvert_exporter": "python",
   "pygments_lexer": "ipython3",
   "version": "3.12.3"
  }
 },
 "nbformat": 4,
 "nbformat_minor": 2
}
